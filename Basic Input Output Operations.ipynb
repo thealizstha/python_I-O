{
 "cells": [
  {
   "cell_type": "code",
   "execution_count": 1,
   "id": "68c2d45b",
   "metadata": {},
   "outputs": [
    {
     "name": "stdout",
     "output_type": "stream",
     "text": [
      "1234\n",
      "1234\n"
     ]
    }
   ],
   "source": [
    "a = input() #user sanga input mageko\n",
    "print(a)"
   ]
  },
  {
   "cell_type": "code",
   "execution_count": 3,
   "id": "47c91f38",
   "metadata": {},
   "outputs": [
    {
     "name": "stdout",
     "output_type": "stream",
     "text": [
      "Enter a = 123\n",
      "123\n",
      "<class 'str'>\n"
     ]
    }
   ],
   "source": [
    "a = input(\"Enter a = \")\n",
    "print(a)\n",
    "print(type(a)) #type chai string hunxa"
   ]
  },
  {
   "cell_type": "code",
   "execution_count": 7,
   "id": "8703adbb",
   "metadata": {},
   "outputs": [
    {
     "name": "stdout",
     "output_type": "stream",
     "text": [
      "Enter a = 10\n",
      "10\n",
      "<class 'int'>\n"
     ]
    }
   ],
   "source": [
    "a = int(input(\"Enter a = \"))\n",
    "print(a)\n",
    "print(type(a)) #integer ma convert gareko \n",
    "#yesma hamile string value input dina mildaina"
   ]
  },
  {
   "cell_type": "code",
   "execution_count": 14,
   "id": "8bb4a04b",
   "metadata": {},
   "outputs": [
    {
     "name": "stdout",
     "output_type": "stream",
     "text": [
      "10\n"
     ]
    },
    {
     "data": {
      "text/plain": [
       "int"
      ]
     },
     "execution_count": 14,
     "metadata": {},
     "output_type": "execute_result"
    }
   ],
   "source": [
    "#type casting\n",
    "#int() float() str() bool()\n",
    "a = 10\n",
    "str(a) #integer lai string ma typecast gareko\n",
    "print(a)\n",
    "type(a)"
   ]
  },
  {
   "cell_type": "code",
   "execution_count": 13,
   "id": "4e770d5c",
   "metadata": {},
   "outputs": [
    {
     "name": "stdout",
     "output_type": "stream",
     "text": [
      "10.0\n"
     ]
    }
   ],
   "source": [
    "a = '10'\n",
    "print(float(a)) #string lai float ma typecast gareko"
   ]
  },
  {
   "cell_type": "code",
   "execution_count": null,
   "id": "8688c447",
   "metadata": {},
   "outputs": [],
   "source": []
  },
  {
   "cell_type": "code",
   "execution_count": 15,
   "id": "0b8f2d03",
   "metadata": {},
   "outputs": [
    {
     "data": {
      "text/plain": [
       "True"
      ]
     },
     "execution_count": 15,
     "metadata": {},
     "output_type": "execute_result"
    }
   ],
   "source": [
    "a = 2 # values other than 0 are true\n",
    "bool(a)"
   ]
  },
  {
   "cell_type": "code",
   "execution_count": 21,
   "id": "2962cc15",
   "metadata": {},
   "outputs": [
    {
     "data": {
      "text/plain": [
       "False"
      ]
     },
     "execution_count": 21,
     "metadata": {},
     "output_type": "execute_result"
    }
   ],
   "source": [
    "b = 0 # 0 vaneko false\n",
    "bool(b)"
   ]
  },
  {
   "cell_type": "code",
   "execution_count": 23,
   "id": "e6d22a95",
   "metadata": {},
   "outputs": [
    {
     "name": "stdout",
     "output_type": "stream",
     "text": [
      "Enter P = 20000\n",
      "Enter t = 2.5\n",
      "Enter r = 0.1\n",
      "The value of simple interest is:  50.0\n"
     ]
    }
   ],
   "source": [
    "#WAP to calculate simple interest\n",
    "p = int(input(\"Enter P = \"))\n",
    "t = float(input(\"Enter t = \"))\n",
    "r = float(input(\"Enter r = \"))\n",
    "\n",
    "i = p*t*r/100\n",
    "print(\"The value of simple interest is: \",i)"
   ]
  },
  {
   "cell_type": "code",
   "execution_count": 25,
   "id": "bee2c8c8",
   "metadata": {},
   "outputs": [
    {
     "data": {
      "text/plain": [
       "'leo messi 10'"
      ]
     },
     "execution_count": 25,
     "metadata": {},
     "output_type": "execute_result"
    }
   ],
   "source": [
    "a = \"messi \"\n",
    "\"leo \" + a + str(10)  #string + string matra concat hunxa tei vayera 10 lai string ma typecast gareko"
   ]
  },
  {
   "cell_type": "code",
   "execution_count": 4,
   "id": "c6dbf19b",
   "metadata": {},
   "outputs": [
    {
     "name": "stdout",
     "output_type": "stream",
     "text": [
      "Enter name = Aliz Shrestha\n",
      "Enter age = 23\n",
      "Enter address = Kapan\n",
      "Hello World I am Aliz Shrestha I am from KapanI am  23years old\n"
     ]
    }
   ],
   "source": [
    "name = input(\"Enter name = \")\n",
    "age = int(input(\"Enter age = \"))\n",
    "address = input(\"Enter address = \")\n",
    "info = \"Hello World I am \" + name + \" I am from \" + address + \"I am  \" + str(age) + \"years old\"\n",
    "print(info)"
   ]
  },
  {
   "cell_type": "code",
   "execution_count": 5,
   "id": "2aa4c0ed",
   "metadata": {},
   "outputs": [
    {
     "name": "stdout",
     "output_type": "stream",
     "text": [
      "Enter physics marks = 85\n",
      "Enter chemistry marks = 88\n",
      "Enter maths marks = 93\n",
      "The total marks  =  266\n",
      "The percentage is  88.66666666666667\n"
     ]
    }
   ],
   "source": [
    "physics = int(input(\"Enter physics marks = \"))\n",
    "chemistry = int(input(\"Enter chemistry marks = \"))\n",
    "maths = int(input(\"Enter maths marks = \"))\n",
    "total = physics + chemistry + maths\n",
    "percent = total / 3\n",
    "print(\"The total marks  = \",total)\n",
    "print(\"The percentage is \", percent)"
   ]
  },
  {
   "cell_type": "code",
   "execution_count": null,
   "id": "0768380e",
   "metadata": {},
   "outputs": [],
   "source": []
  }
 ],
 "metadata": {
  "kernelspec": {
   "display_name": "Python 3 (ipykernel)",
   "language": "python",
   "name": "python3"
  },
  "language_info": {
   "codemirror_mode": {
    "name": "ipython",
    "version": 3
   },
   "file_extension": ".py",
   "mimetype": "text/x-python",
   "name": "python",
   "nbconvert_exporter": "python",
   "pygments_lexer": "ipython3",
   "version": "3.9.13"
  }
 },
 "nbformat": 4,
 "nbformat_minor": 5
}
